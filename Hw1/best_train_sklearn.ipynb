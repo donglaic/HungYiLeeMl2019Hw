{
 "cells": [
  {
   "cell_type": "code",
   "execution_count": 1,
   "metadata": {},
   "outputs": [],
   "source": [
    "import numpy as np\n",
    "import pandas as pd\n",
    "import matplotlib.pyplot as plt\n",
    "from sklearn.model_selection import train_test_split\n",
    "from sklearn.linear_model import LinearRegression"
   ]
  },
  {
   "cell_type": "markdown",
   "metadata": {},
   "source": [
    "functions define"
   ]
  },
  {
   "cell_type": "code",
   "execution_count": 2,
   "metadata": {},
   "outputs": [],
   "source": [
    "def get_data_dict(data):\n",
    "    data_dict = {}\n",
    "    for m in range(12):\n",
    "        row = m*18*20\n",
    "        temp = data.iloc[row:row+18]\n",
    "        for d in range(1,20):\n",
    "            row += 18\n",
    "            temp = pd.concat([temp,data.iloc[row:row+18]],axis=1)\n",
    "        temp.set_axis(range(24*20),axis=1,inplace=True)\n",
    "        data_dict[m] = temp\n",
    "    return data_dict\n",
    "\n",
    "def getMonthTrainData(month,hours,features):\n",
    "    label = month.loc['PM2.5',hours:]\n",
    "    X = np.empty((480-hours,len(features)*hours))\n",
    "    for i in range(480-hours):\n",
    "        X[i,:] = month.loc[features,i:i+hours-1].values.flatten()\n",
    "    return X,label.values.astype(np.float)\n",
    "\n",
    "def getYearTrainData(dict,hours,features):\n",
    "    X,y = getMonthTrainData(dict[0],hours,features)\n",
    "    for m in range(1,12):\n",
    "        temp_X,temp_y = getMonthTrainData(dict[m],hours,features)\n",
    "        X = np.concatenate((X,temp_X),axis=0)\n",
    "        y = np.concatenate((y,temp_y),axis=0)\n",
    "    return X,y.reshape(y.shape[0],-1)\n",
    "\n",
    "def normal(X):\n",
    "    mu = X.mean(axis=0)\n",
    "    sigma = X.std(axis=0)\n",
    "    return (X-mu)/sigma,mu,sigma"
   ]
  },
  {
   "cell_type": "markdown",
   "metadata": {},
   "source": [
    "读取训练数据"
   ]
  },
  {
   "cell_type": "code",
   "execution_count": 3,
   "metadata": {},
   "outputs": [],
   "source": [
    "data = pd.read_csv('train.csv',engine='python')\n",
    "\n",
    "data.columns = ['Date', 'Place', 'Test', '0', '1', '2', '3', '4', '5', '6', '7', '8',\n",
    "       '9', '10', '11', '12', '13', '14', '15', '16', '17', '18', '19', '20',\n",
    "       '21', '22', '23']\n",
    "\n",
    "data.drop(['Date','Place'],axis='columns',inplace=True)\n",
    "\n",
    "data.set_index('Test',inplace=True)\n",
    "\n",
    "data[data=='NR'] = 0\n",
    "\n",
    "data_dict = get_data_dict(data)"
   ]
  },
  {
   "cell_type": "code",
   "execution_count": 40,
   "metadata": {},
   "outputs": [],
   "source": [
    "hours = 9\n",
    "features = ['AMB_TEMP', 'CH4', 'CO', 'NMHC', 'NO', 'NO2', 'NOx', 'O3', 'PM10',\n",
    "       'PM2.5', 'RAINFALL', 'RH', 'SO2', 'THC', 'WD_HR', 'WIND_DIREC',\n",
    "       'WIND_SPEED', 'WS_HR']"
   ]
  },
  {
   "cell_type": "code",
   "execution_count": 52,
   "metadata": {
    "scrolled": true
   },
   "outputs": [],
   "source": [
    "X,y = getYearTrainData(data_dict,hours,features)\n",
    "\n",
    "X_train,X_test,y_train,y_test = train_test_split(X, y, test_size=0.33, random_state=42)"
   ]
  },
  {
   "cell_type": "code",
   "execution_count": 53,
   "metadata": {},
   "outputs": [
    {
     "data": {
      "text/plain": [
       "LinearRegression(copy_X=True, fit_intercept=True, n_jobs=None, normalize=False)"
      ]
     },
     "execution_count": 53,
     "metadata": {},
     "output_type": "execute_result"
    }
   ],
   "source": [
    "model = LinearRegression()\n",
    "model.fit(X_train,y_train)"
   ]
  },
  {
   "cell_type": "code",
   "execution_count": 54,
   "metadata": {},
   "outputs": [],
   "source": [
    "def loss_fun(theta,X,y):\n",
    "    m = y.shape[0]\n",
    "    y_pred = X@theta\n",
    "    temp = y_pred - y\n",
    "    loss = temp.T@temp/m/2\n",
    "    return loss.item()"
   ]
  },
  {
   "cell_type": "code",
   "execution_count": 55,
   "metadata": {},
   "outputs": [
    {
     "data": {
      "text/plain": [
       "(18.169186806949774, 22.830979494955102)"
      ]
     },
     "execution_count": 55,
     "metadata": {},
     "output_type": "execute_result"
    }
   ],
   "source": [
    "loss_fun(model.coef_.T,X_train,y_train),loss_fun(model.coef_.T,X_test,y_test)"
   ]
  },
  {
   "cell_type": "code",
   "execution_count": 56,
   "metadata": {},
   "outputs": [
    {
     "data": {
      "text/plain": [
       "(1, 162)"
      ]
     },
     "execution_count": 56,
     "metadata": {},
     "output_type": "execute_result"
    }
   ],
   "source": [
    "model.coef_.shape"
   ]
  },
  {
   "cell_type": "code",
   "execution_count": null,
   "metadata": {},
   "outputs": [],
   "source": []
  }
 ],
 "metadata": {
  "kernelspec": {
   "display_name": "Python 3",
   "language": "python",
   "name": "python3"
  },
  "language_info": {
   "codemirror_mode": {
    "name": "ipython",
    "version": 3
   },
   "file_extension": ".py",
   "mimetype": "text/x-python",
   "name": "python",
   "nbconvert_exporter": "python",
   "pygments_lexer": "ipython3",
   "version": "3.6.9"
  }
 },
 "nbformat": 4,
 "nbformat_minor": 4
}
