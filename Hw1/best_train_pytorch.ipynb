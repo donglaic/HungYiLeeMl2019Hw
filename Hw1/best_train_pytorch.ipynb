{
 "cells": [
  {
   "cell_type": "code",
   "execution_count": 1,
   "metadata": {},
   "outputs": [],
   "source": [
    "import numpy as np\n",
    "import pandas as pd\n",
    "import matplotlib.pyplot as plt\n",
    "from sklearn.model_selection import train_test_split\n",
    "from sklearn.linear_model import LinearRegression\n",
    "import torch\n",
    "import torch.nn as nn"
   ]
  },
  {
   "cell_type": "markdown",
   "metadata": {},
   "source": [
    "functions define"
   ]
  },
  {
   "cell_type": "code",
   "execution_count": 31,
   "metadata": {},
   "outputs": [],
   "source": [
    "def get_data_dict(data):\n",
    "    data_dict = {}\n",
    "    for m in range(12):\n",
    "        row = m*18*20\n",
    "        temp = data.iloc[row:row+18]\n",
    "        for d in range(1,20):\n",
    "            row += 18\n",
    "            temp = pd.concat([temp,data.iloc[row:row+18]],axis=1)\n",
    "        temp.set_axis(range(24*20),axis=1,inplace=True)\n",
    "        data_dict[m] = temp\n",
    "    return data_dict\n",
    "\n",
    "def getMonthTrainData(month,hours,features):\n",
    "    label = month.loc['PM2.5',hours:]\n",
    "    X = np.empty((480-hours,len(features)*hours))\n",
    "    for i in range(480-hours):\n",
    "        X[i,:] = month.loc[features,i:i+hours-1].values.flatten()\n",
    "    return X,label.values.astype(np.float32)\n",
    "\n",
    "def getYearTrainData(dict,hours,features):\n",
    "    X,y = getMonthTrainData(dict[0],hours,features)\n",
    "    for m in range(1,12):\n",
    "        temp_X,temp_y = getMonthTrainData(dict[m],hours,features)\n",
    "        X = np.concatenate((X,temp_X),axis=0)\n",
    "        y = np.concatenate((y,temp_y),axis=0)\n",
    "    return X,y.reshape(y.shape[0],-1)\n",
    "\n",
    "def normal(X):\n",
    "    mu = X.mean(axis=0)\n",
    "    sigma = X.std(axis=0)\n",
    "    return (X-mu)/sigma,mu,sigma\n"
   ]
  },
  {
   "cell_type": "markdown",
   "metadata": {},
   "source": [
    "读取训练数据"
   ]
  },
  {
   "cell_type": "code",
   "execution_count": 32,
   "metadata": {},
   "outputs": [],
   "source": [
    "data = pd.read_csv('train.csv',engine='python')\n",
    "\n",
    "data.columns = ['Date', 'Place', 'Test', '0', '1', '2', '3', '4', '5', '6', '7', '8',\n",
    "       '9', '10', '11', '12', '13', '14', '15', '16', '17', '18', '19', '20',\n",
    "       '21', '22', '23']\n",
    "\n",
    "data.drop(['Date','Place'],axis='columns',inplace=True)\n",
    "\n",
    "data.set_index('Test',inplace=True)\n",
    "\n",
    "data[data=='NR'] = 0\n",
    "\n",
    "data_dict = get_data_dict(data)"
   ]
  },
  {
   "cell_type": "code",
   "execution_count": 33,
   "metadata": {},
   "outputs": [],
   "source": [
    "hours = 9\n",
    "features = ['AMB_TEMP', 'CH4', 'CO', 'NMHC', 'NO', 'NO2', 'NOx', 'O3', 'PM10',\n",
    "       'PM2.5', 'RAINFALL', 'RH', 'SO2', 'THC', 'WD_HR', 'WIND_DIREC',\n",
    "       'WIND_SPEED', 'WS_HR']"
   ]
  },
  {
   "cell_type": "code",
   "execution_count": 46,
   "metadata": {
    "scrolled": true
   },
   "outputs": [],
   "source": [
    "X,y = getYearTrainData(data_dict,hours,features)\n",
    "\n",
    "X = X.astype(np.float32)\n",
    "y = y.astype(np.float32)\n",
    "\n",
    "X_train,X_test,y_train,y_test = train_test_split(X, y, test_size=0.33, random_state=42)\n",
    "\n",
    "X_train_norm,mu,sigma = normal(X_train)\n",
    "\n",
    "X_test_norm = (X_test-mu)/sigma\n",
    "\n",
    "X_train_norm = np.concatenate((np.ones((X_train_norm.shape[0],1),dtype=np.float32),X_train_norm),axis=1)\n",
    "X_test_norm = np.concatenate((np.ones((X_test_norm.shape[0],1),dtype=np.float32),X_test_norm),axis=1)\n"
   ]
  },
  {
   "cell_type": "code",
   "execution_count": 47,
   "metadata": {},
   "outputs": [],
   "source": [
    "X_train_norm = torch.from_numpy(X_train_norm)\n",
    "y_train = torch.from_numpy(y_train)"
   ]
  },
  {
   "cell_type": "code",
   "execution_count": 48,
   "metadata": {},
   "outputs": [],
   "source": [
    "X_test_norm = torch.from_numpy(X_test_norm)\n",
    "y_test = torch.from_numpy(y_test)"
   ]
  },
  {
   "cell_type": "code",
   "execution_count": 49,
   "metadata": {},
   "outputs": [],
   "source": [
    "class linear_regression(nn.Module):\n",
    "    def __init__(self,num_features):\n",
    "        super(linear_regression,self).__init__()\n",
    "        self.linear = nn.Linear(num_features,1)\n",
    "    def forward(self,x):\n",
    "        return self.linear(x)"
   ]
  },
  {
   "cell_type": "code",
   "execution_count": 82,
   "metadata": {},
   "outputs": [],
   "source": [
    "epochs = 10000\n",
    "\n",
    "loss_history = []\n",
    "\n",
    "m,n = X_train_norm.shape\n",
    "# theta = torch.zeros((n,1),dtype=torch.float64,requires_grad=True)\n",
    "model = linear_regression(n)\n",
    "\n",
    "loss_func = nn.MSELoss()\n",
    "optimizer = torch.optim.Adam(model.parameters(),lr=0.01)\n",
    "for epoch in range(epochs):\n",
    "    optimizer.zero_grad()\n",
    "    y_pred = model(X_train_norm)\n",
    "\n",
    "    loss = loss_func(y_pred,y_train)\n",
    "#     print(loss)\n",
    "#     break\n",
    "    loss.backward()\n",
    "    optimizer.step()\n",
    "    loss_history.append(loss)"
   ]
  },
  {
   "cell_type": "code",
   "execution_count": 83,
   "metadata": {},
   "outputs": [
    {
     "data": {
      "text/plain": [
       "[<matplotlib.lines.Line2D at 0x7f30f1a99320>]"
      ]
     },
     "execution_count": 83,
     "metadata": {},
     "output_type": "execute_result"
    },
    {
     "data": {
      "image/png": "[encoded data removed]",
      "text/plain": [
       "<Figure size 432x288 with 1 Axes>"
      ]
     },
     "metadata": {
      "needs_background": "light"
     },
     "output_type": "display_data"
    }
   ],
   "source": [
    "plt.plot(loss_history)"
   ]
  },
  {
   "cell_type": "code",
   "execution_count": 84,
   "metadata": {},
   "outputs": [
    {
     "data": {
      "text/plain": [
       "(tensor([[16.8975],\n",
       "         [23.8551],\n",
       "         [69.8650],\n",
       "         [26.7569],\n",
       "         [22.8588]], grad_fn=<SliceBackward>),\n",
       " tensor([[20.],\n",
       "         [22.],\n",
       "         [66.],\n",
       "         [20.],\n",
       "         [27.]]))"
      ]
     },
     "execution_count": 84,
     "metadata": {},
     "output_type": "execute_result"
    }
   ],
   "source": [
    "y_pred[:5],y_train[:5]"
   ]
  },
  {
   "cell_type": "code",
   "execution_count": 85,
   "metadata": {},
   "outputs": [
    {
     "data": {
      "text/plain": [
       "torch.Size([3786, 1])"
      ]
     },
     "execution_count": 85,
     "metadata": {},
     "output_type": "execute_result"
    }
   ],
   "source": [
    "y_pred.shape"
   ]
  },
  {
   "cell_type": "code",
   "execution_count": 86,
   "metadata": {},
   "outputs": [
    {
     "data": {
      "text/plain": [
       "tensor(29.6172, grad_fn=<MseLossBackward>)"
      ]
     },
     "execution_count": 86,
     "metadata": {},
     "output_type": "execute_result"
    }
   ],
   "source": [
    "loss"
   ]
  },
  {
   "cell_type": "code",
   "execution_count": 87,
   "metadata": {},
   "outputs": [
    {
     "data": {
      "text/plain": [
       "tensor(39.8047, grad_fn=<MseLossBackward>)"
      ]
     },
     "execution_count": 87,
     "metadata": {},
     "output_type": "execute_result"
    }
   ],
   "source": [
    "model.eval()\n",
    "loss_func(model(X_test_norm),y_test)"
   ]
  },
  {
   "cell_type": "code",
   "execution_count": null,
   "metadata": {},
   "outputs": [],
   "source": []
  }
 ],
 "metadata": {
  "kernelspec": {
   "display_name": "Python 3",
   "language": "python",
   "name": "python3"
  },
  "language_info": {
   "codemirror_mode": {
    "name": "ipython",
    "version": 3
   },
   "file_extension": ".py",
   "mimetype": "text/x-python",
   "name": "python",
   "nbconvert_exporter": "python",
   "pygments_lexer": "ipython3",
   "version": "3.6.9"
  }
 },
 "nbformat": 4,
 "nbformat_minor": 4
}
